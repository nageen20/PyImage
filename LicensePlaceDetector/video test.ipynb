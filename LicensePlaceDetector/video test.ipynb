{
 "cells": [
  {
   "cell_type": "code",
   "execution_count": 1,
   "metadata": {},
   "outputs": [
    {
     "name": "stdout",
     "output_type": "stream",
     "text": [
      "Video stop\n"
     ]
    }
   ],
   "source": [
    "import numpy as np\n",
    "import cv2\n",
    "\n",
    "# Open a sample video available in sample-videos\n",
    "vcap = cv2.VideoCapture('http://192.168.0.27:8080/video')\n",
    "#if not vcap.isOpened():\n",
    "#    print \"File Cannot be Opened\"\n",
    "\n",
    "while(True):\n",
    "    # Capture frame-by-frame\n",
    "    ret, frame = vcap.read()\n",
    "    #print cap.isOpened(), ret\n",
    "    if frame is not None:\n",
    "        # Display the resulting frame\n",
    "        cv2.imshow('frame',cv2.resize(frame, (640,320)))\n",
    "        # Press q to close the video windows before it ends if you want\n",
    "        if cv2.waitKey(22) & 0xFF == ord('q'):\n",
    "            break\n",
    "    else:\n",
    "        print(\"Frame is None\")\n",
    "        break\n",
    "\n",
    "# When everything done, release the capture\n",
    "vcap.release()\n",
    "cv2.destroyAllWindows()\n",
    "print(\"Video stop\")"
   ]
  },
  {
   "cell_type": "code",
   "execution_count": null,
   "metadata": {},
   "outputs": [],
   "source": []
  }
 ],
 "metadata": {
  "kernelspec": {
   "display_name": "Python 3",
   "language": "python",
   "name": "python3"
  },
  "language_info": {
   "codemirror_mode": {
    "name": "ipython",
    "version": 3
   },
   "file_extension": ".py",
   "mimetype": "text/x-python",
   "name": "python",
   "nbconvert_exporter": "python",
   "pygments_lexer": "ipython3",
   "version": "3.6.6"
  }
 },
 "nbformat": 4,
 "nbformat_minor": 2
}
