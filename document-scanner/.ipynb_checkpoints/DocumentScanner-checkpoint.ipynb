{
 "cells": [
  {
   "cell_type": "code",
   "execution_count": null,
   "metadata": {},
   "outputs": [],
   "source": [
    "#Load the required libraries\n",
    "\n",
    "import cv2\n",
    "import numpy as np\n",
    "from skimage.filters import threshold_local"
   ]
  },
  {
   "cell_type": "code",
   "execution_count": null,
   "metadata": {},
   "outputs": [],
   "source": [
    "#read the image \n",
    "image = cv2.imread('images/bcard.jpeg')\n",
    "\n",
    "#Find the dimensions of the image\n",
    "(h, w, d) = image.shape\n",
    "print(\"width={}, height={}, depth={}\".format(w, h, d))\n"
   ]
  },
  {
   "cell_type": "code",
   "execution_count": null,
   "metadata": {},
   "outputs": [],
   "source": [
    "#Resize the image if required\n",
    "r = 500.0/w\n",
    "dim = (500, int(h*r))\n",
    "resized = cv2.resize(image, dim)\n"
   ]
  },
  {
   "cell_type": "code",
   "execution_count": null,
   "metadata": {},
   "outputs": [],
   "source": [
    "#Conver the image to gray scale\n",
    "gray = cv2.cvtColor(resized,cv2.COLOR_BGR2GRAY)\n",
    "\n",
    "#Apply Gaussian blur\n",
    "gray = cv2.GaussianBlur(gray,(5,5),0)\n",
    "\n",
    "#Detect the edges in the image\n",
    "edged = cv2.Canny(gray, 75, 200)\n",
    "\n",
    "#Show the image after and before edge detection\n",
    "print(\"STEP 1: Edge Detection\")\n",
    "cv2.imshow(\"Image\", resized)\n",
    "cv2.imshow(\"Edged\", edged)\n",
    "cv2.waitKey(0)\n",
    "cv2.destroyAllWindows()"
   ]
  },
  {
   "cell_type": "code",
   "execution_count": null,
   "metadata": {},
   "outputs": [],
   "source": [
    "#Copy the image to a new variable\n",
    "edged_copy = edged.copy()\n",
    "\n",
    "#Find the contours in the image\n",
    "image, cnts, hierarchy = cv2.findContours(edged_copy, cv2.RETR_LIST, cv2.CHAIN_APPROX_SIMPLE)\n",
    "\n",
    "#Sort the contours by contour area and get the top 5 contours\n",
    "cnts = sorted(cnts,key = cv2.contourArea, reverse=True)[:5]\n",
    "\n",
    "#Loop through the contours and get an approximate shape with four corners\n",
    "for c in cnts:\n",
    "    peri = cv2.arcLength(c, True)\n",
    "    approx = cv2.approxPolyDP(c, 0.02*peri, True)\n",
    "    \n",
    "    if len(approx) == 4:\n",
    "        screenCnt = approx\n",
    "        break\n",
    "\n",
    "print(\"STEP 2: Find contours of paper\")\n",
    "#Draw the contours and show the image\n",
    "cv2.drawContours(resized, [screenCnt],-1, (0, 255, 0), 2)\n",
    "cv2.imshow(\"Outline\", resized)\n",
    "cv2.waitKey(0)\n",
    "cv2.destroyAllWindows()"
   ]
  },
  {
   "cell_type": "code",
   "execution_count": null,
   "metadata": {},
   "outputs": [],
   "source": [
    "#Define order points functions to get the corners of the document in order\n",
    "#The order of points is top left, top right,bottom right and bottom left\n",
    "def order_pts(pts):\n",
    "    rect = np.zeros((4,2), dtype = \"float32\")\n",
    "    \n",
    "    s= pts.sum(axis = 1)\n",
    "    rect[0] = pts[np.argmin(s)]\n",
    "    rect[2] = pts[np.argmax(s)]\n",
    "    \n",
    "    diff = np.diff(pts, axis=1)\n",
    "    rect[1] = pts[np.argmin(diff)]\n",
    "    rect[3] = pts[np.argmax(diff)]\n",
    "    \n",
    "    return rect"
   ]
  },
  {
   "cell_type": "code",
   "execution_count": null,
   "metadata": {},
   "outputs": [],
   "source": [
    "#Define a function to Apply perspective transform to get the top down view (hawk eye view) of the document\n",
    "#Get the max width and max height of the four sides of the quadrilateral\n",
    "#define destination points as shown below from the max height and max width\n",
    "def four_point_transform(image, pts):\n",
    "    rect = order_pts(pts)\n",
    "    (tl, tr, br, bl) = rect\n",
    "    \n",
    "    #Get max width\n",
    "    widthA = np.sqrt(((br[0] - bl[0])**2) + ((br[1] - bl[1])**2))\n",
    "    widthB = np.sqrt(((tl[0] - tr[0])**2) + ((tl[1] - tr[1])**2))\n",
    "    maxWidth = max(int(widthA), int(widthB))\n",
    "    \n",
    "    #Get max height\n",
    "    heightA = np.sqrt(((tr[0] - br[0])**2) + ((tr[1] - br[1])**2))\n",
    "    heightB = np.sqrt(((tl[0] - bl[0])**2) + ((tl[1] - bl[1])**2))\n",
    "    maxHeight = max(int(heightA), int(heightB))\n",
    "    \n",
    "    #Define destination points frommax height and max width\n",
    "    dst = np.array([\n",
    "        [0, 0],\n",
    "        [maxWidth - 1, 0],\n",
    "        [maxWidth - 1, maxHeight - 1],\n",
    "        [0, maxHeight - 1]\n",
    "    ], dtype = \"float32\")\n",
    "    \n",
    "    #Apply perspective transforms using opencv functions\n",
    "    M = cv2.getPerspectiveTransform(rect, dst)\n",
    "    warped = cv2.warpPerspective(image, M, (maxWidth, maxHeight))\n",
    "    \n",
    "    #Return the warped image\n",
    "    return warped"
   ]
  },
  {
   "cell_type": "code",
   "execution_count": null,
   "metadata": {},
   "outputs": [],
   "source": [
    "#Warp the image to get a hawkeye view\n",
    "warped = four_point_transform(resized, screenCnt.reshape(4,2))\n",
    "\n",
    "#Convert the warped image to gray and apply adaptive thresholding to get a scanned document feel\n",
    "warped = cv2.cvtColor(warped, cv2.COLOR_BGR2GRAY)\n",
    "T = threshold_local(warped, 11,offset = 10, method = \"gaussian\")\n",
    "warped = (warped > T).astype(\"uint8\")*255\n",
    "\n",
    "#Show the output\n",
    "print(\"STEP 3:Apply perspective transform\")\n",
    "cv2.imshow(\"Original\", resized)\n",
    "cv2.imshow(\"Scanned\", warped)\n",
    "cv2.waitKey(0)\n",
    "cv2.destroyAllWindows"
   ]
  },
  {
   "cell_type": "code",
   "execution_count": null,
   "metadata": {},
   "outputs": [],
   "source": []
  }
 ],
 "metadata": {
  "kernelspec": {
   "display_name": "Python 3",
   "language": "python",
   "name": "python3"
  },
  "language_info": {
   "codemirror_mode": {
    "name": "ipython",
    "version": 3
   },
   "file_extension": ".py",
   "mimetype": "text/x-python",
   "name": "python",
   "nbconvert_exporter": "python",
   "pygments_lexer": "ipython3",
   "version": "3.6.6"
  }
 },
 "nbformat": 4,
 "nbformat_minor": 2
}
